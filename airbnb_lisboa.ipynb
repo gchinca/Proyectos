{
  "cells": [
    {
      "cell_type": "markdown",
      "metadata": {
        "id": "view-in-github",
        "colab_type": "text"
      },
      "source": [
        "<a href=\"https://colab.research.google.com/github/gchinca/Airbnb-Lisboa/blob/main/airbnb_lisboa.ipynb\" target=\"_parent\"><img src=\"https://colab.research.google.com/assets/colab-badge.svg\" alt=\"Open In Colab\"/></a>"
      ]
    },
    {
      "cell_type": "markdown",
      "source": [
        "## **ANÁLISIS DE DATOS DEL MERCADO AIRBNB EN LISBOA**\n",
        "\n",
        "El proyecto tiene como objetivo realizar un análisis de datos sobre el mercado de Airbnb en la ciudad de Lisboa, se analiza la distribución geográfica de los alojamientos, sus características y si existen diferencias significativas en los precios según la ubicación y el tipo de propiedad.\n",
        "\n",
        "Los resultados de este proyecto tienen múltiples aplicaciones, los propietarios de alojamientos podrán obtener información valiosa para optimizar su estrategia de precios y promoción, así como para adaptarse a las necesidades y preferencias de los huéspedes. Por otro lado, los turistas que planeen visitar Lisboa podrán beneficiarse de una mejor comprensión del mercado, lo que les permitirá tomar decisiones informadas al seleccionar alojamientos que se ajusten a sus expectativas y presupuesto."
      ],
      "metadata": {
        "id": "MKAOadKpfJbl"
      }
    },
    {
      "cell_type": "markdown",
      "metadata": {
        "id": "LDi967ASJGhe"
      },
      "source": [
        "Actualización dataset: septiembre de 2022\n",
        "\n",
        "Fuente de información: http://insideairbnb.com/get-the-data/"
      ]
    },
    {
      "cell_type": "markdown",
      "metadata": {
        "id": "PdqulqIxCttF"
      },
      "source": [
        "## **OBJETIVOS DEL PROYECTO**\n",
        "\n",
        "1. ¿Cuál es el tipo de alojamiento con mejor precio promedio en la ciudad de Lisboa?\n",
        "2. ¿Cuales son los precios promedio de alojamiento en la ciudad de Lisboa?\n",
        "3. Determinar la cantidad de alojamientos por rangos de precio: bajo, medio, alto y muy alto\n",
        "4. Top 5 de zonas con mejor precio promedio\n",
        "5. Tipo de alojamiento mas ofertado en Lisboa\n",
        "6. Precio promedio en los alojamientos con hasta 2 habitaciones"
      ]
    },
    {
      "cell_type": "markdown",
      "metadata": {
        "id": "oUh_oZysn-j4"
      },
      "source": [
        "## **PROCESO DE EXTRACCIÓN**\n",
        "\n",
        "\n"
      ]
    },
    {
      "cell_type": "code",
      "source": [
        "from google.colab import drive\n",
        "drive.mount('/content/drive')"
      ],
      "metadata": {
        "colab": {
          "base_uri": "https://localhost:8080/"
        },
        "id": "xTZg-3gAg0gS",
        "outputId": "24cc8454-1376-4df6-8a37-43b847da4e2e"
      },
      "execution_count": null,
      "outputs": [
        {
          "output_type": "stream",
          "name": "stdout",
          "text": [
            "Mounted at /content/drive\n"
          ]
        }
      ]
    },
    {
      "cell_type": "code",
      "execution_count": null,
      "metadata": {
        "id": "d9W1eV71whr_"
      },
      "outputs": [],
      "source": [
        "import pandas as pd\n",
        "import matplotlib.pyplot as plt\n",
        "import seaborn as sns"
      ]
    },
    {
      "cell_type": "code",
      "execution_count": null,
      "metadata": {
        "id": "IIDkcog_wvtr"
      },
      "outputs": [],
      "source": [
        "lisboa = '/content/drive/MyDrive/Colab Notebooks/PROYECTOS/AIRBNB LISBOA/listings.csv'\n",
        "airbnb= pd.read_csv(lisboa)\n"
      ]
    },
    {
      "cell_type": "markdown",
      "source": [
        "Información del dataset"
      ],
      "metadata": {
        "id": "shRvr1qlQBpt"
      }
    },
    {
      "cell_type": "code",
      "execution_count": null,
      "metadata": {
        "colab": {
          "base_uri": "https://localhost:8080/"
        },
        "id": "Xy2sc9omzkx4",
        "outputId": "f9125fb6-e682-475f-8dca-c9ad4d39aa6a"
      },
      "outputs": [
        {
          "output_type": "stream",
          "name": "stdout",
          "text": [
            "<class 'pandas.core.frame.DataFrame'>\n",
            "RangeIndex: 19651 entries, 0 to 19650\n",
            "Data columns (total 75 columns):\n",
            " #   Column                                        Non-Null Count  Dtype  \n",
            "---  ------                                        --------------  -----  \n",
            " 0   id                                            19651 non-null  int64  \n",
            " 1   listing_url                                   19651 non-null  object \n",
            " 2   scrape_id                                     19651 non-null  int64  \n",
            " 3   last_scraped                                  19651 non-null  object \n",
            " 4   source                                        19651 non-null  object \n",
            " 5   name                                          19643 non-null  object \n",
            " 6   description                                   19632 non-null  object \n",
            " 7   neighborhood_overview                         12526 non-null  object \n",
            " 8   picture_url                                   19651 non-null  object \n",
            " 9   host_id                                       19651 non-null  int64  \n",
            " 10  host_url                                      19651 non-null  object \n",
            " 11  host_name                                     19651 non-null  object \n",
            " 12  host_since                                    19651 non-null  object \n",
            " 13  host_location                                 15430 non-null  object \n",
            " 14  host_about                                    11655 non-null  object \n",
            " 15  host_response_time                            17835 non-null  object \n",
            " 16  host_response_rate                            17835 non-null  object \n",
            " 17  host_acceptance_rate                          18296 non-null  object \n",
            " 18  host_is_superhost                             19644 non-null  object \n",
            " 19  host_thumbnail_url                            19651 non-null  object \n",
            " 20  host_picture_url                              19651 non-null  object \n",
            " 21  host_neighbourhood                            9621 non-null   object \n",
            " 22  host_listings_count                           19651 non-null  int64  \n",
            " 23  host_total_listings_count                     19651 non-null  int64  \n",
            " 24  host_verifications                            19651 non-null  object \n",
            " 25  host_has_profile_pic                          19651 non-null  object \n",
            " 26  host_identity_verified                        19651 non-null  object \n",
            " 27  neighbourhood                                 12526 non-null  object \n",
            " 28  neighbourhood_cleansed                        19651 non-null  object \n",
            " 29  neighbourhood_group_cleansed                  19651 non-null  object \n",
            " 30  latitude                                      19651 non-null  float64\n",
            " 31  longitude                                     19651 non-null  float64\n",
            " 32  property_type                                 19651 non-null  object \n",
            " 33  room_type                                     19651 non-null  object \n",
            " 34  accommodates                                  19651 non-null  int64  \n",
            " 35  bathrooms                                     0 non-null      float64\n",
            " 36  bathrooms_text                                19614 non-null  object \n",
            " 37  bedrooms                                      18757 non-null  float64\n",
            " 38  beds                                          19457 non-null  float64\n",
            " 39  amenities                                     19651 non-null  object \n",
            " 40  price                                         19651 non-null  object \n",
            " 41  minimum_nights                                19651 non-null  int64  \n",
            " 42  maximum_nights                                19651 non-null  int64  \n",
            " 43  minimum_minimum_nights                        19651 non-null  int64  \n",
            " 44  maximum_minimum_nights                        19651 non-null  int64  \n",
            " 45  minimum_maximum_nights                        19651 non-null  int64  \n",
            " 46  maximum_maximum_nights                        19651 non-null  int64  \n",
            " 47  minimum_nights_avg_ntm                        19651 non-null  float64\n",
            " 48  maximum_nights_avg_ntm                        19651 non-null  float64\n",
            " 49  calendar_updated                              0 non-null      float64\n",
            " 50  has_availability                              19651 non-null  object \n",
            " 51  availability_30                               19651 non-null  int64  \n",
            " 52  availability_60                               19651 non-null  int64  \n",
            " 53  availability_90                               19651 non-null  int64  \n",
            " 54  availability_365                              19651 non-null  int64  \n",
            " 55  calendar_last_scraped                         19651 non-null  object \n",
            " 56  number_of_reviews                             19651 non-null  int64  \n",
            " 57  number_of_reviews_ltm                         19651 non-null  int64  \n",
            " 58  number_of_reviews_l30d                        19651 non-null  int64  \n",
            " 59  first_review                                  17717 non-null  object \n",
            " 60  last_review                                   17717 non-null  object \n",
            " 61  review_scores_rating                          17717 non-null  float64\n",
            " 62  review_scores_accuracy                        17674 non-null  float64\n",
            " 63  review_scores_cleanliness                     17674 non-null  float64\n",
            " 64  review_scores_checkin                         17674 non-null  float64\n",
            " 65  review_scores_communication                   17674 non-null  float64\n",
            " 66  review_scores_location                        17674 non-null  float64\n",
            " 67  review_scores_value                           17675 non-null  float64\n",
            " 68  license                                       18289 non-null  object \n",
            " 69  instant_bookable                              19651 non-null  object \n",
            " 70  calculated_host_listings_count                19651 non-null  int64  \n",
            " 71  calculated_host_listings_count_entire_homes   19651 non-null  int64  \n",
            " 72  calculated_host_listings_count_private_rooms  19651 non-null  int64  \n",
            " 73  calculated_host_listings_count_shared_rooms   19651 non-null  int64  \n",
            " 74  reviews_per_month                             17717 non-null  float64\n",
            "dtypes: float64(16), int64(23), object(36)\n",
            "memory usage: 11.2+ MB\n"
          ]
        },
        {
          "output_type": "execute_result",
          "data": {
            "text/plain": [
              "(19651, 75)"
            ]
          },
          "metadata": {},
          "execution_count": 5
        }
      ],
      "source": [
        "airbnb.info()\n",
        "airbnb.shape"
      ]
    },
    {
      "cell_type": "code",
      "source": [],
      "metadata": {
        "id": "4HnJs553P-pZ"
      },
      "execution_count": null,
      "outputs": []
    },
    {
      "cell_type": "code",
      "execution_count": null,
      "metadata": {
        "colab": {
          "base_uri": "https://localhost:8080/",
          "height": 497
        },
        "id": "pmHwEmWxnGD4",
        "outputId": "ed8b6dad-962d-406f-c917-cb1bf0164f08"
      },
      "outputs": [
        {
          "output_type": "execute_result",
          "data": {
            "text/plain": [
              "                   id                                      listing_url  \\\n",
              "0            36664873            https://www.airbnb.com/rooms/36664873   \n",
              "1  589780527953985801  https://www.airbnb.com/rooms/589780527953985801   \n",
              "2            25345952            https://www.airbnb.com/rooms/25345952   \n",
              "\n",
              "        scrape_id last_scraped       source  \\\n",
              "0  20220913165728   2022-09-13  city scrape   \n",
              "1  20220913165728   2022-09-13  city scrape   \n",
              "2  20220913165728   2022-09-14  city scrape   \n",
              "\n",
              "                                                name  \\\n",
              "0  Casa Ferry Holiday House Lisbon 15min & Beach ...   \n",
              "1             La Caz O Soleil de Lapa (sans cuisine)   \n",
              "2       La maison de la plage, et de la tranquillité   \n",
              "\n",
              "                                         description  \\\n",
              "0  Our portuguese-style house with spacious terra...   \n",
              "1  Oubliez vos soucis dans ce logement spacieux e...   \n",
              "2  Maison en copropriété privée avec piscine parc...   \n",
              "\n",
              "                               neighborhood_overview  \\\n",
              "0  Nice quiet village where the river meets the o...   \n",
              "1  Quartier calme, restaurants a proximités, bar,...   \n",
              "2                                                NaN   \n",
              "\n",
              "                                         picture_url    host_id  ...  \\\n",
              "0  https://a0.muscache.com/pictures/a49ce709-eaac...  275575455  ...   \n",
              "1  https://a0.muscache.com/pictures/miso/Hosting-...   22145635  ...   \n",
              "2  https://a0.muscache.com/pictures/142e8803-1846...  175971197  ...   \n",
              "\n",
              "  review_scores_communication review_scores_location review_scores_value  \\\n",
              "0                        4.90                   4.76                4.71   \n",
              "1                        5.00                   4.63                5.00   \n",
              "2                        4.83                   4.28                4.64   \n",
              "\n",
              "    license instant_bookable calculated_host_listings_count  \\\n",
              "0  42622/AL                t                              1   \n",
              "1    Exempt                f                              1   \n",
              "2    Exempt                t                              2   \n",
              "\n",
              "  calculated_host_listings_count_entire_homes  \\\n",
              "0                                           1   \n",
              "1                                           0   \n",
              "2                                           2   \n",
              "\n",
              "  calculated_host_listings_count_private_rooms  \\\n",
              "0                                            0   \n",
              "1                                            1   \n",
              "2                                            0   \n",
              "\n",
              "  calculated_host_listings_count_shared_rooms reviews_per_month  \n",
              "0                                           0              0.56  \n",
              "1                                           0              2.14  \n",
              "2                                           0              0.89  \n",
              "\n",
              "[3 rows x 75 columns]"
            ],
            "text/html": [
              "\n",
              "  <div id=\"df-70be78c7-6b31-423f-9cca-997b78ce3fb8\">\n",
              "    <div class=\"colab-df-container\">\n",
              "      <div>\n",
              "<style scoped>\n",
              "    .dataframe tbody tr th:only-of-type {\n",
              "        vertical-align: middle;\n",
              "    }\n",
              "\n",
              "    .dataframe tbody tr th {\n",
              "        vertical-align: top;\n",
              "    }\n",
              "\n",
              "    .dataframe thead th {\n",
              "        text-align: right;\n",
              "    }\n",
              "</style>\n",
              "<table border=\"1\" class=\"dataframe\">\n",
              "  <thead>\n",
              "    <tr style=\"text-align: right;\">\n",
              "      <th></th>\n",
              "      <th>id</th>\n",
              "      <th>listing_url</th>\n",
              "      <th>scrape_id</th>\n",
              "      <th>last_scraped</th>\n",
              "      <th>source</th>\n",
              "      <th>name</th>\n",
              "      <th>description</th>\n",
              "      <th>neighborhood_overview</th>\n",
              "      <th>picture_url</th>\n",
              "      <th>host_id</th>\n",
              "      <th>...</th>\n",
              "      <th>review_scores_communication</th>\n",
              "      <th>review_scores_location</th>\n",
              "      <th>review_scores_value</th>\n",
              "      <th>license</th>\n",
              "      <th>instant_bookable</th>\n",
              "      <th>calculated_host_listings_count</th>\n",
              "      <th>calculated_host_listings_count_entire_homes</th>\n",
              "      <th>calculated_host_listings_count_private_rooms</th>\n",
              "      <th>calculated_host_listings_count_shared_rooms</th>\n",
              "      <th>reviews_per_month</th>\n",
              "    </tr>\n",
              "  </thead>\n",
              "  <tbody>\n",
              "    <tr>\n",
              "      <th>0</th>\n",
              "      <td>36664873</td>\n",
              "      <td>https://www.airbnb.com/rooms/36664873</td>\n",
              "      <td>20220913165728</td>\n",
              "      <td>2022-09-13</td>\n",
              "      <td>city scrape</td>\n",
              "      <td>Casa Ferry Holiday House Lisbon 15min &amp; Beach ...</td>\n",
              "      <td>Our portuguese-style house with spacious terra...</td>\n",
              "      <td>Nice quiet village where the river meets the o...</td>\n",
              "      <td>https://a0.muscache.com/pictures/a49ce709-eaac...</td>\n",
              "      <td>275575455</td>\n",
              "      <td>...</td>\n",
              "      <td>4.90</td>\n",
              "      <td>4.76</td>\n",
              "      <td>4.71</td>\n",
              "      <td>42622/AL</td>\n",
              "      <td>t</td>\n",
              "      <td>1</td>\n",
              "      <td>1</td>\n",
              "      <td>0</td>\n",
              "      <td>0</td>\n",
              "      <td>0.56</td>\n",
              "    </tr>\n",
              "    <tr>\n",
              "      <th>1</th>\n",
              "      <td>589780527953985801</td>\n",
              "      <td>https://www.airbnb.com/rooms/589780527953985801</td>\n",
              "      <td>20220913165728</td>\n",
              "      <td>2022-09-13</td>\n",
              "      <td>city scrape</td>\n",
              "      <td>La Caz O Soleil de Lapa (sans cuisine)</td>\n",
              "      <td>Oubliez vos soucis dans ce logement spacieux e...</td>\n",
              "      <td>Quartier calme, restaurants a proximités, bar,...</td>\n",
              "      <td>https://a0.muscache.com/pictures/miso/Hosting-...</td>\n",
              "      <td>22145635</td>\n",
              "      <td>...</td>\n",
              "      <td>5.00</td>\n",
              "      <td>4.63</td>\n",
              "      <td>5.00</td>\n",
              "      <td>Exempt</td>\n",
              "      <td>f</td>\n",
              "      <td>1</td>\n",
              "      <td>0</td>\n",
              "      <td>1</td>\n",
              "      <td>0</td>\n",
              "      <td>2.14</td>\n",
              "    </tr>\n",
              "    <tr>\n",
              "      <th>2</th>\n",
              "      <td>25345952</td>\n",
              "      <td>https://www.airbnb.com/rooms/25345952</td>\n",
              "      <td>20220913165728</td>\n",
              "      <td>2022-09-14</td>\n",
              "      <td>city scrape</td>\n",
              "      <td>La maison de la plage, et de la tranquillité</td>\n",
              "      <td>Maison en copropriété privée avec piscine parc...</td>\n",
              "      <td>NaN</td>\n",
              "      <td>https://a0.muscache.com/pictures/142e8803-1846...</td>\n",
              "      <td>175971197</td>\n",
              "      <td>...</td>\n",
              "      <td>4.83</td>\n",
              "      <td>4.28</td>\n",
              "      <td>4.64</td>\n",
              "      <td>Exempt</td>\n",
              "      <td>t</td>\n",
              "      <td>2</td>\n",
              "      <td>2</td>\n",
              "      <td>0</td>\n",
              "      <td>0</td>\n",
              "      <td>0.89</td>\n",
              "    </tr>\n",
              "  </tbody>\n",
              "</table>\n",
              "<p>3 rows × 75 columns</p>\n",
              "</div>\n",
              "      <button class=\"colab-df-convert\" onclick=\"convertToInteractive('df-70be78c7-6b31-423f-9cca-997b78ce3fb8')\"\n",
              "              title=\"Convert this dataframe to an interactive table.\"\n",
              "              style=\"display:none;\">\n",
              "        \n",
              "  <svg xmlns=\"http://www.w3.org/2000/svg\" height=\"24px\"viewBox=\"0 0 24 24\"\n",
              "       width=\"24px\">\n",
              "    <path d=\"M0 0h24v24H0V0z\" fill=\"none\"/>\n",
              "    <path d=\"M18.56 5.44l.94 2.06.94-2.06 2.06-.94-2.06-.94-.94-2.06-.94 2.06-2.06.94zm-11 1L8.5 8.5l.94-2.06 2.06-.94-2.06-.94L8.5 2.5l-.94 2.06-2.06.94zm10 10l.94 2.06.94-2.06 2.06-.94-2.06-.94-.94-2.06-.94 2.06-2.06.94z\"/><path d=\"M17.41 7.96l-1.37-1.37c-.4-.4-.92-.59-1.43-.59-.52 0-1.04.2-1.43.59L10.3 9.45l-7.72 7.72c-.78.78-.78 2.05 0 2.83L4 21.41c.39.39.9.59 1.41.59.51 0 1.02-.2 1.41-.59l7.78-7.78 2.81-2.81c.8-.78.8-2.07 0-2.86zM5.41 20L4 18.59l7.72-7.72 1.47 1.35L5.41 20z\"/>\n",
              "  </svg>\n",
              "      </button>\n",
              "      \n",
              "  <style>\n",
              "    .colab-df-container {\n",
              "      display:flex;\n",
              "      flex-wrap:wrap;\n",
              "      gap: 12px;\n",
              "    }\n",
              "\n",
              "    .colab-df-convert {\n",
              "      background-color: #E8F0FE;\n",
              "      border: none;\n",
              "      border-radius: 50%;\n",
              "      cursor: pointer;\n",
              "      display: none;\n",
              "      fill: #1967D2;\n",
              "      height: 32px;\n",
              "      padding: 0 0 0 0;\n",
              "      width: 32px;\n",
              "    }\n",
              "\n",
              "    .colab-df-convert:hover {\n",
              "      background-color: #E2EBFA;\n",
              "      box-shadow: 0px 1px 2px rgba(60, 64, 67, 0.3), 0px 1px 3px 1px rgba(60, 64, 67, 0.15);\n",
              "      fill: #174EA6;\n",
              "    }\n",
              "\n",
              "    [theme=dark] .colab-df-convert {\n",
              "      background-color: #3B4455;\n",
              "      fill: #D2E3FC;\n",
              "    }\n",
              "\n",
              "    [theme=dark] .colab-df-convert:hover {\n",
              "      background-color: #434B5C;\n",
              "      box-shadow: 0px 1px 3px 1px rgba(0, 0, 0, 0.15);\n",
              "      filter: drop-shadow(0px 1px 2px rgba(0, 0, 0, 0.3));\n",
              "      fill: #FFFFFF;\n",
              "    }\n",
              "  </style>\n",
              "\n",
              "      <script>\n",
              "        const buttonEl =\n",
              "          document.querySelector('#df-70be78c7-6b31-423f-9cca-997b78ce3fb8 button.colab-df-convert');\n",
              "        buttonEl.style.display =\n",
              "          google.colab.kernel.accessAllowed ? 'block' : 'none';\n",
              "\n",
              "        async function convertToInteractive(key) {\n",
              "          const element = document.querySelector('#df-70be78c7-6b31-423f-9cca-997b78ce3fb8');\n",
              "          const dataTable =\n",
              "            await google.colab.kernel.invokeFunction('convertToInteractive',\n",
              "                                                     [key], {});\n",
              "          if (!dataTable) return;\n",
              "\n",
              "          const docLinkHtml = 'Like what you see? Visit the ' +\n",
              "            '<a target=\"_blank\" href=https://colab.research.google.com/notebooks/data_table.ipynb>data table notebook</a>'\n",
              "            + ' to learn more about interactive tables.';\n",
              "          element.innerHTML = '';\n",
              "          dataTable['output_type'] = 'display_data';\n",
              "          await google.colab.output.renderOutput(dataTable, element);\n",
              "          const docLink = document.createElement('div');\n",
              "          docLink.innerHTML = docLinkHtml;\n",
              "          element.appendChild(docLink);\n",
              "        }\n",
              "      </script>\n",
              "    </div>\n",
              "  </div>\n",
              "  "
            ]
          },
          "metadata": {},
          "execution_count": 6
        }
      ],
      "source": [
        "airbnb.head(3)\n"
      ]
    },
    {
      "cell_type": "markdown",
      "metadata": {
        "id": "hT9j2QtU_o9c"
      },
      "source": [
        "# **TRANSFORMACIÓN**\n",
        "Se realiza el análisis de las columnas de interés\n",
        "\n",
        "\n",
        "*   id (integer): Airbnb's unique identifier for the listing\n",
        "*   neighbourhood_group_cleansed (text): The neighbourhood as geocoded using the latitude and longitude against neighborhoods as defined by open or public digital shapefiles.\n",
        "* neighbourhood_group_cleansed (text): The neighbourhood group as geocoded using the latitude and longitude against neighborhoods as defined by open or public digital shapefiles.\n",
        "*   latitude (numeric): Uses the World Geodetic System (WGS84) projection for latitude and longitude.\n",
        "*   longitude (numeric): Uses the World Geodetic System (WGS84) projection for latitude and longitude.\n",
        "*   room_type (text): Entire home/apt, Private room, Shared room, Hotel\n",
        "* bedrooms (integer): The number of bedrooms\n",
        "* accommodates (integer): The maximum capacity of the listing\n",
        "*   price (currency): daily price in local currency\n",
        "* review_scores_rating                       \n"
      ]
    },
    {
      "cell_type": "code",
      "execution_count": null,
      "metadata": {
        "colab": {
          "base_uri": "https://localhost:8080/",
          "height": 357
        },
        "id": "L4GuTD8Jzsy_",
        "outputId": "f66c47e1-6f89-40d5-e145-4ae272e41bb5"
      },
      "outputs": [
        {
          "output_type": "execute_result",
          "data": {
            "text/plain": [
              "                   id neighbourhood_cleansed neighbourhood_group_cleansed  \\\n",
              "0            36664873                   Belm                       Lisboa   \n",
              "1  589780527953985801        Aveiras de Cima                     Azambuja   \n",
              "2            25345952      Lourinh e Atalaia                      Lourinh   \n",
              "3            42095537                Estrela                       Lisboa   \n",
              "4  567287540530945227    Carcavelos e Parede                      Cascais   \n",
              "\n",
              "   latitude  longitude        room_type  bedrooms  accommodates    price  \\\n",
              "0  38.67128   -9.23064  Entire home/apt       3.0             6   $95.00   \n",
              "1  39.16590   -8.88479     Private room       1.0             2   $25.00   \n",
              "2  39.30664   -9.33760  Entire home/apt       3.0             6   $65.00   \n",
              "3  38.68358   -9.15259      Shared room       1.0             1   $14.00   \n",
              "4  38.68436   -9.35110  Entire home/apt       2.0             4  $174.00   \n",
              "\n",
              "   review_scores_rating  \n",
              "0                  4.86  \n",
              "1                  5.00  \n",
              "2                  4.78  \n",
              "3                  4.33  \n",
              "4                  4.60  "
            ],
            "text/html": [
              "\n",
              "  <div id=\"df-aeea3ff9-2252-4b10-b2c3-2ffc98784177\">\n",
              "    <div class=\"colab-df-container\">\n",
              "      <div>\n",
              "<style scoped>\n",
              "    .dataframe tbody tr th:only-of-type {\n",
              "        vertical-align: middle;\n",
              "    }\n",
              "\n",
              "    .dataframe tbody tr th {\n",
              "        vertical-align: top;\n",
              "    }\n",
              "\n",
              "    .dataframe thead th {\n",
              "        text-align: right;\n",
              "    }\n",
              "</style>\n",
              "<table border=\"1\" class=\"dataframe\">\n",
              "  <thead>\n",
              "    <tr style=\"text-align: right;\">\n",
              "      <th></th>\n",
              "      <th>id</th>\n",
              "      <th>neighbourhood_cleansed</th>\n",
              "      <th>neighbourhood_group_cleansed</th>\n",
              "      <th>latitude</th>\n",
              "      <th>longitude</th>\n",
              "      <th>room_type</th>\n",
              "      <th>bedrooms</th>\n",
              "      <th>accommodates</th>\n",
              "      <th>price</th>\n",
              "      <th>review_scores_rating</th>\n",
              "    </tr>\n",
              "  </thead>\n",
              "  <tbody>\n",
              "    <tr>\n",
              "      <th>0</th>\n",
              "      <td>36664873</td>\n",
              "      <td>Belm</td>\n",
              "      <td>Lisboa</td>\n",
              "      <td>38.67128</td>\n",
              "      <td>-9.23064</td>\n",
              "      <td>Entire home/apt</td>\n",
              "      <td>3.0</td>\n",
              "      <td>6</td>\n",
              "      <td>$95.00</td>\n",
              "      <td>4.86</td>\n",
              "    </tr>\n",
              "    <tr>\n",
              "      <th>1</th>\n",
              "      <td>589780527953985801</td>\n",
              "      <td>Aveiras de Cima</td>\n",
              "      <td>Azambuja</td>\n",
              "      <td>39.16590</td>\n",
              "      <td>-8.88479</td>\n",
              "      <td>Private room</td>\n",
              "      <td>1.0</td>\n",
              "      <td>2</td>\n",
              "      <td>$25.00</td>\n",
              "      <td>5.00</td>\n",
              "    </tr>\n",
              "    <tr>\n",
              "      <th>2</th>\n",
              "      <td>25345952</td>\n",
              "      <td>Lourinh e Atalaia</td>\n",
              "      <td>Lourinh</td>\n",
              "      <td>39.30664</td>\n",
              "      <td>-9.33760</td>\n",
              "      <td>Entire home/apt</td>\n",
              "      <td>3.0</td>\n",
              "      <td>6</td>\n",
              "      <td>$65.00</td>\n",
              "      <td>4.78</td>\n",
              "    </tr>\n",
              "    <tr>\n",
              "      <th>3</th>\n",
              "      <td>42095537</td>\n",
              "      <td>Estrela</td>\n",
              "      <td>Lisboa</td>\n",
              "      <td>38.68358</td>\n",
              "      <td>-9.15259</td>\n",
              "      <td>Shared room</td>\n",
              "      <td>1.0</td>\n",
              "      <td>1</td>\n",
              "      <td>$14.00</td>\n",
              "      <td>4.33</td>\n",
              "    </tr>\n",
              "    <tr>\n",
              "      <th>4</th>\n",
              "      <td>567287540530945227</td>\n",
              "      <td>Carcavelos e Parede</td>\n",
              "      <td>Cascais</td>\n",
              "      <td>38.68436</td>\n",
              "      <td>-9.35110</td>\n",
              "      <td>Entire home/apt</td>\n",
              "      <td>2.0</td>\n",
              "      <td>4</td>\n",
              "      <td>$174.00</td>\n",
              "      <td>4.60</td>\n",
              "    </tr>\n",
              "  </tbody>\n",
              "</table>\n",
              "</div>\n",
              "      <button class=\"colab-df-convert\" onclick=\"convertToInteractive('df-aeea3ff9-2252-4b10-b2c3-2ffc98784177')\"\n",
              "              title=\"Convert this dataframe to an interactive table.\"\n",
              "              style=\"display:none;\">\n",
              "        \n",
              "  <svg xmlns=\"http://www.w3.org/2000/svg\" height=\"24px\"viewBox=\"0 0 24 24\"\n",
              "       width=\"24px\">\n",
              "    <path d=\"M0 0h24v24H0V0z\" fill=\"none\"/>\n",
              "    <path d=\"M18.56 5.44l.94 2.06.94-2.06 2.06-.94-2.06-.94-.94-2.06-.94 2.06-2.06.94zm-11 1L8.5 8.5l.94-2.06 2.06-.94-2.06-.94L8.5 2.5l-.94 2.06-2.06.94zm10 10l.94 2.06.94-2.06 2.06-.94-2.06-.94-.94-2.06-.94 2.06-2.06.94z\"/><path d=\"M17.41 7.96l-1.37-1.37c-.4-.4-.92-.59-1.43-.59-.52 0-1.04.2-1.43.59L10.3 9.45l-7.72 7.72c-.78.78-.78 2.05 0 2.83L4 21.41c.39.39.9.59 1.41.59.51 0 1.02-.2 1.41-.59l7.78-7.78 2.81-2.81c.8-.78.8-2.07 0-2.86zM5.41 20L4 18.59l7.72-7.72 1.47 1.35L5.41 20z\"/>\n",
              "  </svg>\n",
              "      </button>\n",
              "      \n",
              "  <style>\n",
              "    .colab-df-container {\n",
              "      display:flex;\n",
              "      flex-wrap:wrap;\n",
              "      gap: 12px;\n",
              "    }\n",
              "\n",
              "    .colab-df-convert {\n",
              "      background-color: #E8F0FE;\n",
              "      border: none;\n",
              "      border-radius: 50%;\n",
              "      cursor: pointer;\n",
              "      display: none;\n",
              "      fill: #1967D2;\n",
              "      height: 32px;\n",
              "      padding: 0 0 0 0;\n",
              "      width: 32px;\n",
              "    }\n",
              "\n",
              "    .colab-df-convert:hover {\n",
              "      background-color: #E2EBFA;\n",
              "      box-shadow: 0px 1px 2px rgba(60, 64, 67, 0.3), 0px 1px 3px 1px rgba(60, 64, 67, 0.15);\n",
              "      fill: #174EA6;\n",
              "    }\n",
              "\n",
              "    [theme=dark] .colab-df-convert {\n",
              "      background-color: #3B4455;\n",
              "      fill: #D2E3FC;\n",
              "    }\n",
              "\n",
              "    [theme=dark] .colab-df-convert:hover {\n",
              "      background-color: #434B5C;\n",
              "      box-shadow: 0px 1px 3px 1px rgba(0, 0, 0, 0.15);\n",
              "      filter: drop-shadow(0px 1px 2px rgba(0, 0, 0, 0.3));\n",
              "      fill: #FFFFFF;\n",
              "    }\n",
              "  </style>\n",
              "\n",
              "      <script>\n",
              "        const buttonEl =\n",
              "          document.querySelector('#df-aeea3ff9-2252-4b10-b2c3-2ffc98784177 button.colab-df-convert');\n",
              "        buttonEl.style.display =\n",
              "          google.colab.kernel.accessAllowed ? 'block' : 'none';\n",
              "\n",
              "        async function convertToInteractive(key) {\n",
              "          const element = document.querySelector('#df-aeea3ff9-2252-4b10-b2c3-2ffc98784177');\n",
              "          const dataTable =\n",
              "            await google.colab.kernel.invokeFunction('convertToInteractive',\n",
              "                                                     [key], {});\n",
              "          if (!dataTable) return;\n",
              "\n",
              "          const docLinkHtml = 'Like what you see? Visit the ' +\n",
              "            '<a target=\"_blank\" href=https://colab.research.google.com/notebooks/data_table.ipynb>data table notebook</a>'\n",
              "            + ' to learn more about interactive tables.';\n",
              "          element.innerHTML = '';\n",
              "          dataTable['output_type'] = 'display_data';\n",
              "          await google.colab.output.renderOutput(dataTable, element);\n",
              "          const docLink = document.createElement('div');\n",
              "          docLink.innerHTML = docLinkHtml;\n",
              "          element.appendChild(docLink);\n",
              "        }\n",
              "      </script>\n",
              "    </div>\n",
              "  </div>\n",
              "  "
            ]
          },
          "metadata": {},
          "execution_count": 7
        }
      ],
      "source": [
        "columnas=['id','neighbourhood_cleansed','neighbourhood_group_cleansed', 'latitude', 'longitude', 'room_type','bedrooms','accommodates', 'price' , 'review_scores_rating']\n",
        "listado_resumen=airbnb[columnas]\n",
        "listado_resumen.head()\n"
      ]
    },
    {
      "cell_type": "markdown",
      "metadata": {
        "id": "B976qLLQDQdL"
      },
      "source": [
        "Se filtra la tabla dejando solo la información correspondiente a la ciudad de Lisboa."
      ]
    },
    {
      "cell_type": "code",
      "execution_count": null,
      "metadata": {
        "colab": {
          "base_uri": "https://localhost:8080/",
          "height": 337
        },
        "id": "37zMGrxSsd5O",
        "outputId": "eaf948fe-8c77-4e6a-c3c9-fc1a48e273fe"
      },
      "outputs": [
        {
          "output_type": "execute_result",
          "data": {
            "text/plain": [
              "                   id neighbourhood_cleansed neighbourhood_group_cleansed  \\\n",
              "0            36664873                   Belm                       Lisboa   \n",
              "3            42095537                Estrela                       Lisboa   \n",
              "7                6499                   Belm                       Lisboa   \n",
              "8               25659      Santa Maria Maior                       Lisboa   \n",
              "9  588224448804923698                Estrela                       Lisboa   \n",
              "\n",
              "    latitude  longitude        room_type  bedrooms  accommodates   price  \\\n",
              "0  38.671280  -9.230640  Entire home/apt       3.0             6  $95.00   \n",
              "3  38.683580  -9.152590      Shared room       1.0             1  $14.00   \n",
              "7  38.697500  -9.197680  Entire home/apt       1.0             3  $69.00   \n",
              "8  38.712410  -9.127060  Entire home/apt       1.0             3  $54.00   \n",
              "9  38.684052  -9.154102     Private room       1.0             2  $29.00   \n",
              "\n",
              "   review_scores_rating  \n",
              "0                  4.86  \n",
              "3                  4.33  \n",
              "7                  4.48  \n",
              "8                  4.78  \n",
              "9                  4.90  "
            ],
            "text/html": [
              "\n",
              "  <div id=\"df-e882894b-2220-4f6e-a96b-eeb29ee6e162\">\n",
              "    <div class=\"colab-df-container\">\n",
              "      <div>\n",
              "<style scoped>\n",
              "    .dataframe tbody tr th:only-of-type {\n",
              "        vertical-align: middle;\n",
              "    }\n",
              "\n",
              "    .dataframe tbody tr th {\n",
              "        vertical-align: top;\n",
              "    }\n",
              "\n",
              "    .dataframe thead th {\n",
              "        text-align: right;\n",
              "    }\n",
              "</style>\n",
              "<table border=\"1\" class=\"dataframe\">\n",
              "  <thead>\n",
              "    <tr style=\"text-align: right;\">\n",
              "      <th></th>\n",
              "      <th>id</th>\n",
              "      <th>neighbourhood_cleansed</th>\n",
              "      <th>neighbourhood_group_cleansed</th>\n",
              "      <th>latitude</th>\n",
              "      <th>longitude</th>\n",
              "      <th>room_type</th>\n",
              "      <th>bedrooms</th>\n",
              "      <th>accommodates</th>\n",
              "      <th>price</th>\n",
              "      <th>review_scores_rating</th>\n",
              "    </tr>\n",
              "  </thead>\n",
              "  <tbody>\n",
              "    <tr>\n",
              "      <th>0</th>\n",
              "      <td>36664873</td>\n",
              "      <td>Belm</td>\n",
              "      <td>Lisboa</td>\n",
              "      <td>38.671280</td>\n",
              "      <td>-9.230640</td>\n",
              "      <td>Entire home/apt</td>\n",
              "      <td>3.0</td>\n",
              "      <td>6</td>\n",
              "      <td>$95.00</td>\n",
              "      <td>4.86</td>\n",
              "    </tr>\n",
              "    <tr>\n",
              "      <th>3</th>\n",
              "      <td>42095537</td>\n",
              "      <td>Estrela</td>\n",
              "      <td>Lisboa</td>\n",
              "      <td>38.683580</td>\n",
              "      <td>-9.152590</td>\n",
              "      <td>Shared room</td>\n",
              "      <td>1.0</td>\n",
              "      <td>1</td>\n",
              "      <td>$14.00</td>\n",
              "      <td>4.33</td>\n",
              "    </tr>\n",
              "    <tr>\n",
              "      <th>7</th>\n",
              "      <td>6499</td>\n",
              "      <td>Belm</td>\n",
              "      <td>Lisboa</td>\n",
              "      <td>38.697500</td>\n",
              "      <td>-9.197680</td>\n",
              "      <td>Entire home/apt</td>\n",
              "      <td>1.0</td>\n",
              "      <td>3</td>\n",
              "      <td>$69.00</td>\n",
              "      <td>4.48</td>\n",
              "    </tr>\n",
              "    <tr>\n",
              "      <th>8</th>\n",
              "      <td>25659</td>\n",
              "      <td>Santa Maria Maior</td>\n",
              "      <td>Lisboa</td>\n",
              "      <td>38.712410</td>\n",
              "      <td>-9.127060</td>\n",
              "      <td>Entire home/apt</td>\n",
              "      <td>1.0</td>\n",
              "      <td>3</td>\n",
              "      <td>$54.00</td>\n",
              "      <td>4.78</td>\n",
              "    </tr>\n",
              "    <tr>\n",
              "      <th>9</th>\n",
              "      <td>588224448804923698</td>\n",
              "      <td>Estrela</td>\n",
              "      <td>Lisboa</td>\n",
              "      <td>38.684052</td>\n",
              "      <td>-9.154102</td>\n",
              "      <td>Private room</td>\n",
              "      <td>1.0</td>\n",
              "      <td>2</td>\n",
              "      <td>$29.00</td>\n",
              "      <td>4.90</td>\n",
              "    </tr>\n",
              "  </tbody>\n",
              "</table>\n",
              "</div>\n",
              "      <button class=\"colab-df-convert\" onclick=\"convertToInteractive('df-e882894b-2220-4f6e-a96b-eeb29ee6e162')\"\n",
              "              title=\"Convert this dataframe to an interactive table.\"\n",
              "              style=\"display:none;\">\n",
              "        \n",
              "  <svg xmlns=\"http://www.w3.org/2000/svg\" height=\"24px\"viewBox=\"0 0 24 24\"\n",
              "       width=\"24px\">\n",
              "    <path d=\"M0 0h24v24H0V0z\" fill=\"none\"/>\n",
              "    <path d=\"M18.56 5.44l.94 2.06.94-2.06 2.06-.94-2.06-.94-.94-2.06-.94 2.06-2.06.94zm-11 1L8.5 8.5l.94-2.06 2.06-.94-2.06-.94L8.5 2.5l-.94 2.06-2.06.94zm10 10l.94 2.06.94-2.06 2.06-.94-2.06-.94-.94-2.06-.94 2.06-2.06.94z\"/><path d=\"M17.41 7.96l-1.37-1.37c-.4-.4-.92-.59-1.43-.59-.52 0-1.04.2-1.43.59L10.3 9.45l-7.72 7.72c-.78.78-.78 2.05 0 2.83L4 21.41c.39.39.9.59 1.41.59.51 0 1.02-.2 1.41-.59l7.78-7.78 2.81-2.81c.8-.78.8-2.07 0-2.86zM5.41 20L4 18.59l7.72-7.72 1.47 1.35L5.41 20z\"/>\n",
              "  </svg>\n",
              "      </button>\n",
              "      \n",
              "  <style>\n",
              "    .colab-df-container {\n",
              "      display:flex;\n",
              "      flex-wrap:wrap;\n",
              "      gap: 12px;\n",
              "    }\n",
              "\n",
              "    .colab-df-convert {\n",
              "      background-color: #E8F0FE;\n",
              "      border: none;\n",
              "      border-radius: 50%;\n",
              "      cursor: pointer;\n",
              "      display: none;\n",
              "      fill: #1967D2;\n",
              "      height: 32px;\n",
              "      padding: 0 0 0 0;\n",
              "      width: 32px;\n",
              "    }\n",
              "\n",
              "    .colab-df-convert:hover {\n",
              "      background-color: #E2EBFA;\n",
              "      box-shadow: 0px 1px 2px rgba(60, 64, 67, 0.3), 0px 1px 3px 1px rgba(60, 64, 67, 0.15);\n",
              "      fill: #174EA6;\n",
              "    }\n",
              "\n",
              "    [theme=dark] .colab-df-convert {\n",
              "      background-color: #3B4455;\n",
              "      fill: #D2E3FC;\n",
              "    }\n",
              "\n",
              "    [theme=dark] .colab-df-convert:hover {\n",
              "      background-color: #434B5C;\n",
              "      box-shadow: 0px 1px 3px 1px rgba(0, 0, 0, 0.15);\n",
              "      filter: drop-shadow(0px 1px 2px rgba(0, 0, 0, 0.3));\n",
              "      fill: #FFFFFF;\n",
              "    }\n",
              "  </style>\n",
              "\n",
              "      <script>\n",
              "        const buttonEl =\n",
              "          document.querySelector('#df-e882894b-2220-4f6e-a96b-eeb29ee6e162 button.colab-df-convert');\n",
              "        buttonEl.style.display =\n",
              "          google.colab.kernel.accessAllowed ? 'block' : 'none';\n",
              "\n",
              "        async function convertToInteractive(key) {\n",
              "          const element = document.querySelector('#df-e882894b-2220-4f6e-a96b-eeb29ee6e162');\n",
              "          const dataTable =\n",
              "            await google.colab.kernel.invokeFunction('convertToInteractive',\n",
              "                                                     [key], {});\n",
              "          if (!dataTable) return;\n",
              "\n",
              "          const docLinkHtml = 'Like what you see? Visit the ' +\n",
              "            '<a target=\"_blank\" href=https://colab.research.google.com/notebooks/data_table.ipynb>data table notebook</a>'\n",
              "            + ' to learn more about interactive tables.';\n",
              "          element.innerHTML = '';\n",
              "          dataTable['output_type'] = 'display_data';\n",
              "          await google.colab.output.renderOutput(dataTable, element);\n",
              "          const docLink = document.createElement('div');\n",
              "          docLink.innerHTML = docLinkHtml;\n",
              "          element.appendChild(docLink);\n",
              "        }\n",
              "      </script>\n",
              "    </div>\n",
              "  </div>\n",
              "  "
            ]
          },
          "metadata": {},
          "execution_count": 8
        }
      ],
      "source": [
        "lisboa=listado_resumen[listado_resumen['neighbourhood_group_cleansed'].str.contains('Lisboa', na=False)]\n",
        "lisboa.head()\n",
        "\n"
      ]
    },
    {
      "cell_type": "markdown",
      "metadata": {
        "id": "NSYTwuItS_QN"
      },
      "source": [
        "Revisión de columnas con valores faltantes"
      ]
    },
    {
      "cell_type": "code",
      "execution_count": null,
      "metadata": {
        "colab": {
          "base_uri": "https://localhost:8080/"
        },
        "id": "Ih0VijSxEBfZ",
        "outputId": "a145a35b-88e7-41d9-d710-f3d0282c053f"
      },
      "outputs": [
        {
          "output_type": "stream",
          "name": "stdout",
          "text": [
            "<class 'pandas.core.frame.DataFrame'>\n",
            "Int64Index: 13629 entries, 0 to 19650\n",
            "Data columns (total 10 columns):\n",
            " #   Column                        Non-Null Count  Dtype  \n",
            "---  ------                        --------------  -----  \n",
            " 0   id                            13629 non-null  int64  \n",
            " 1   neighbourhood_cleansed        13629 non-null  object \n",
            " 2   neighbourhood_group_cleansed  13629 non-null  object \n",
            " 3   latitude                      13629 non-null  float64\n",
            " 4   longitude                     13629 non-null  float64\n",
            " 5   room_type                     13629 non-null  object \n",
            " 6   bedrooms                      12974 non-null  float64\n",
            " 7   accommodates                  13629 non-null  int64  \n",
            " 8   price                         13629 non-null  object \n",
            " 9   review_scores_rating          12444 non-null  float64\n",
            "dtypes: float64(4), int64(2), object(4)\n",
            "memory usage: 1.1+ MB\n"
          ]
        }
      ],
      "source": [
        "lisboa.info()"
      ]
    },
    {
      "cell_type": "code",
      "execution_count": null,
      "metadata": {
        "colab": {
          "base_uri": "https://localhost:8080/"
        },
        "id": "gU3sS-AN-gas",
        "outputId": "7fdd54d5-8d9e-4e87-ac70-e845f5d373ec"
      },
      "outputs": [
        {
          "output_type": "execute_result",
          "data": {
            "text/plain": [
              "(13629, 10)"
            ]
          },
          "metadata": {},
          "execution_count": 10
        }
      ],
      "source": [
        "lisboa.shape"
      ]
    },
    {
      "cell_type": "markdown",
      "metadata": {
        "id": "a5xZqGH-FYH9"
      },
      "source": [
        "Revisión de filas duplicadas"
      ]
    },
    {
      "cell_type": "code",
      "execution_count": null,
      "metadata": {
        "colab": {
          "base_uri": "https://localhost:8080/"
        },
        "id": "oMgVfXD7FXrk",
        "outputId": "ab153c60-9301-4104-9001-68d62ab283ee"
      },
      "outputs": [
        {
          "output_type": "stream",
          "name": "stdout",
          "text": [
            "No hay filas duplicadas\n"
          ]
        }
      ],
      "source": [
        "duplicados = lisboa.duplicated().value_counts().to_dict()\n",
        "if  duplicados.get(True):\n",
        "   print(f'Hay {duplicados[True]} filas duplicadas')\n",
        "else:\n",
        "   print(f'No hay filas duplicadas')\n",
        "\n",
        "\n"
      ]
    },
    {
      "cell_type": "markdown",
      "metadata": {
        "id": "-38KfZhvUran"
      },
      "source": [
        "Se realiza limpieza de la columna price y se convierte a tipo float"
      ]
    },
    {
      "cell_type": "code",
      "source": [
        "lisboa['price'].dtypes"
      ],
      "metadata": {
        "colab": {
          "base_uri": "https://localhost:8080/"
        },
        "id": "QT7iEpvYUM0q",
        "outputId": "979a1355-73a0-485b-8eb6-5de94827040b"
      },
      "execution_count": null,
      "outputs": [
        {
          "output_type": "execute_result",
          "data": {
            "text/plain": [
              "dtype('O')"
            ]
          },
          "metadata": {},
          "execution_count": 12
        }
      ]
    },
    {
      "cell_type": "code",
      "execution_count": null,
      "metadata": {
        "colab": {
          "base_uri": "https://localhost:8080/"
        },
        "id": "zDafe21GxDmS",
        "outputId": "05768106-b7db-4d45-8816-baccef194876"
      },
      "outputs": [
        {
          "output_type": "stream",
          "name": "stderr",
          "text": [
            "<ipython-input-13-deee81a5e9f5>:1: SettingWithCopyWarning: \n",
            "A value is trying to be set on a copy of a slice from a DataFrame.\n",
            "Try using .loc[row_indexer,col_indexer] = value instead\n",
            "\n",
            "See the caveats in the documentation: https://pandas.pydata.org/pandas-docs/stable/user_guide/indexing.html#returning-a-view-versus-a-copy\n",
            "  lisboa['price']= lisboa['price'].str.strip('$')\n",
            "<ipython-input-13-deee81a5e9f5>:2: SettingWithCopyWarning: \n",
            "A value is trying to be set on a copy of a slice from a DataFrame.\n",
            "Try using .loc[row_indexer,col_indexer] = value instead\n",
            "\n",
            "See the caveats in the documentation: https://pandas.pydata.org/pandas-docs/stable/user_guide/indexing.html#returning-a-view-versus-a-copy\n",
            "  lisboa['price'] = lisboa['price'].str.replace(',', '').astype(float)\n"
          ]
        }
      ],
      "source": [
        "lisboa['price']= lisboa['price'].str.strip('$')\n",
        "lisboa['price'] = lisboa['price'].str.replace(',', '').astype(float)\n"
      ]
    },
    {
      "cell_type": "code",
      "execution_count": null,
      "metadata": {
        "colab": {
          "base_uri": "https://localhost:8080/"
        },
        "id": "fBq_Rl9fStfG",
        "outputId": "93e912be-191a-43e6-951a-bf69a49c9b69"
      },
      "outputs": [
        {
          "output_type": "execute_result",
          "data": {
            "text/plain": [
              "dtype('float64')"
            ]
          },
          "metadata": {},
          "execution_count": 14
        }
      ],
      "source": [
        "lisboa['price'].dtypes"
      ]
    },
    {
      "cell_type": "markdown",
      "metadata": {
        "id": "sOInKYWco1qW"
      },
      "source": [
        "Revisión de outliers en las columnas numéricas"
      ]
    },
    {
      "cell_type": "code",
      "execution_count": null,
      "metadata": {
        "colab": {
          "base_uri": "https://localhost:8080/",
          "height": 1000
        },
        "id": "ElBMf-Rro6TG",
        "outputId": "77f38436-b5c4-4767-97f8-1d29e9c7c95b"
      },
      "outputs": [
        {
          "output_type": "stream",
          "name": "stderr",
          "text": [
            "<ipython-input-15-409be67f6e35>:8: MatplotlibDeprecationWarning: Auto-removal of overlapping axes is deprecated since 3.6 and will be removed two minor releases later; explicitly call ax.remove() as needed.\n",
            "  plt.subplot(4, 1, i+1)\n"
          ]
        },
        {
          "output_type": "display_data",
          "data": {
            "text/plain": [
              "<Figure size 590.551x1968.5 with 1 Axes>"
            ],
            "image/png": "[encoded data removed]"
          },
          "metadata": {}
        },
        {
          "output_type": "display_data",
          "data": {
            "text/plain": [
              "<Figure size 590.551x1968.5 with 1 Axes>"
            ],
            "image/png": "[encoded data removed]"
          },
          "metadata": {}
        },
        {
          "output_type": "display_data",
          "data": {
            "text/plain": [
              "<Figure size 590.551x1968.5 with 1 Axes>"
            ],
            "image/png": "[encoded data removed]"
          },
          "metadata": {}
        },
        {
          "output_type": "display_data",
          "data": {
            "text/plain": [
              "<Figure size 590.551x1968.5 with 1 Axes>"
            ],
            "image/png": "[encoded data removed]"
          },
          "metadata": {}
        }
      ],
      "source": [
        "cols_num = ['price','accommodates','review_scores_rating', 'bedrooms']\n",
        "cm = 1/2.54  # centimeters in inches\n",
        "\n",
        "\n",
        "for i, col in enumerate(cols_num):\n",
        "  plt.subplots(figsize=(15*cm, 50*cm))\n",
        "  plt.subplots_adjust(hspace=0.5)\n",
        "  plt.subplot(4, 1, i+1)\n",
        "  plt.title(col)\n",
        "  plt.hist(lisboa[col], edgecolor='Black', linewidth=1)\n",
        "  plt.show()\n",
        "\n"
      ]
    },
    {
      "cell_type": "markdown",
      "metadata": {
        "id": "j0lLhs_NbBpG"
      },
      "source": [
        "**Revisión de errores tipográficos**\n",
        "- Se convierte el contenido de la columna neighbourhood en mayúscula\n",
        "- Se hace el recuento de valores únicos en las columnas categoricas"
      ]
    },
    {
      "cell_type": "code",
      "execution_count": null,
      "metadata": {
        "colab": {
          "base_uri": "https://localhost:8080/"
        },
        "id": "bBU3rWm3bGK9",
        "outputId": "a0568f2b-0137-4f43-f204-977546ce2f06"
      },
      "outputs": [
        {
          "output_type": "stream",
          "name": "stdout",
          "text": [
            "Columna neighbourhood_cleansed: 24 valores únicos\n",
            "Columna neighbourhood_group_cleansed: 1 valores únicos\n",
            "Columna room_type: 4 valores únicos\n"
          ]
        },
        {
          "output_type": "stream",
          "name": "stderr",
          "text": [
            "<ipython-input-16-2c78775c16ec>:1: SettingWithCopyWarning: \n",
            "A value is trying to be set on a copy of a slice from a DataFrame.\n",
            "Try using .loc[row_indexer,col_indexer] = value instead\n",
            "\n",
            "See the caveats in the documentation: https://pandas.pydata.org/pandas-docs/stable/user_guide/indexing.html#returning-a-view-versus-a-copy\n",
            "  lisboa['neighbourhood_group_cleansed'] = lisboa['neighbourhood_group_cleansed'].str.upper()\n"
          ]
        }
      ],
      "source": [
        "lisboa['neighbourhood_group_cleansed'] = lisboa['neighbourhood_group_cleansed'].str.upper()\n",
        "col_categorica = ['neighbourhood_cleansed','neighbourhood_group_cleansed', 'room_type']\n",
        "\n",
        "for col in col_categorica:\n",
        " print(f'Columna {col}: {lisboa[col].nunique()} valores únicos')"
      ]
    },
    {
      "cell_type": "code",
      "source": [
        "# Se reemplaza NA por 0 en la columna bedrooms\n",
        "lisboa.fillna({'bedrooms': 0}, inplace=True)"
      ],
      "metadata": {
        "colab": {
          "base_uri": "https://localhost:8080/"
        },
        "id": "sLwCRXe3l5og",
        "outputId": "85adeea3-175d-46dc-c970-a9594e621bc9"
      },
      "execution_count": null,
      "outputs": [
        {
          "output_type": "stream",
          "name": "stderr",
          "text": [
            "<ipython-input-17-09461e0a7f63>:2: SettingWithCopyWarning: \n",
            "A value is trying to be set on a copy of a slice from a DataFrame.\n",
            "Try using .loc[row_indexer,col_indexer] = value instead\n",
            "\n",
            "See the caveats in the documentation: https://pandas.pydata.org/pandas-docs/stable/user_guide/indexing.html#returning-a-view-versus-a-copy\n",
            "  lisboa.fillna({'bedrooms': 0}, inplace=True)\n"
          ]
        }
      ]
    },
    {
      "cell_type": "markdown",
      "metadata": {
        "id": "rjdYsddJZ2kZ"
      },
      "source": [
        "Se almacena el dataset limpio"
      ]
    },
    {
      "cell_type": "code",
      "execution_count": null,
      "metadata": {
        "id": "HshslsnJZxg1"
      },
      "outputs": [],
      "source": [
        "ruta='/content/drive/MyDrive/Colab Notebooks/PROYECTOS/AIRBNB LISBOA/lisboa_limpio'\n",
        "lisboa.to_csv(ruta)"
      ]
    },
    {
      "cell_type": "markdown",
      "metadata": {
        "id": "QTm13tF6ayI_"
      },
      "source": [
        "# **ANÁLISIS EXPLORATORIO DEL DATASET**"
      ]
    },
    {
      "cell_type": "code",
      "execution_count": null,
      "metadata": {
        "colab": {
          "base_uri": "https://localhost:8080/"
        },
        "id": "H9axLpnHBXTx",
        "outputId": "202ae764-2a1f-4816-d9e7-621dc2efce31"
      },
      "outputs": [
        {
          "output_type": "execute_result",
          "data": {
            "text/plain": [
              "count    13629.000000\n",
              "mean       134.424903\n",
              "std        284.788169\n",
              "min          0.000000\n",
              "25%         70.000000\n",
              "50%        100.000000\n",
              "75%        150.000000\n",
              "max      22000.000000\n",
              "Name: price, dtype: float64"
            ]
          },
          "metadata": {},
          "execution_count": 19
        }
      ],
      "source": [
        "# Revisión de datos estadisticos de la columna price\n",
        "lisboa['price'].describe()"
      ]
    },
    {
      "cell_type": "code",
      "source": [
        "lisboa['price'].median()"
      ],
      "metadata": {
        "colab": {
          "base_uri": "https://localhost:8080/"
        },
        "id": "zNKQD4ZbqHt2",
        "outputId": "3a43062c-09c2-4fcd-ee08-4dd9b040e510"
      },
      "execution_count": null,
      "outputs": [
        {
          "output_type": "execute_result",
          "data": {
            "text/plain": [
              "100.0"
            ]
          },
          "metadata": {},
          "execution_count": 20
        }
      ]
    },
    {
      "cell_type": "markdown",
      "source": [],
      "metadata": {
        "id": "KQMEqNhI4Dhq"
      }
    },
    {
      "cell_type": "code",
      "execution_count": null,
      "metadata": {
        "colab": {
          "base_uri": "https://localhost:8080/"
        },
        "id": "mGHBW4PVa8G-",
        "outputId": "5ee62282-e66e-4364-f793-edcaf694b718"
      },
      "outputs": [
        {
          "output_type": "stream",
          "name": "stderr",
          "text": [
            "<ipython-input-21-0b92da62f8b7>:2: SettingWithCopyWarning: \n",
            "A value is trying to be set on a copy of a slice from a DataFrame.\n",
            "Try using .loc[row_indexer,col_indexer] = value instead\n",
            "\n",
            "See the caveats in the documentation: https://pandas.pydata.org/pandas-docs/stable/user_guide/indexing.html#returning-a-view-versus-a-copy\n",
            "  lisboa['price_range'] = lisboa['price'].apply(lambda x: 'Bajo' if x<=100 else 'Medio' if x<=300 else 'Alto' if x<=500 else 'Muy alto')\n"
          ]
        }
      ],
      "source": [
        "# Categorización de precio en Bajo, Medio, Alto y Muy Alto\n",
        "lisboa['price_range'] = lisboa['price'].apply(lambda x: 'Bajo' if x<=100 else 'Medio' if x<=300 else 'Alto' if x<=500 else 'Muy alto')"
      ]
    },
    {
      "cell_type": "code",
      "execution_count": null,
      "metadata": {
        "colab": {
          "base_uri": "https://localhost:8080/",
          "height": 357
        },
        "id": "0awhke3xa8-6",
        "outputId": "94ff7d77-61bc-476c-c3c2-12fc44e3d112"
      },
      "outputs": [
        {
          "output_type": "execute_result",
          "data": {
            "text/plain": [
              "                   id neighbourhood_cleansed neighbourhood_group_cleansed  \\\n",
              "0            36664873                   Belm                       LISBOA   \n",
              "3            42095537                Estrela                       LISBOA   \n",
              "7                6499                   Belm                       LISBOA   \n",
              "8               25659      Santa Maria Maior                       LISBOA   \n",
              "9  588224448804923698                Estrela                       LISBOA   \n",
              "\n",
              "    latitude  longitude        room_type  bedrooms  accommodates  price  \\\n",
              "0  38.671280  -9.230640  Entire home/apt       3.0             6   95.0   \n",
              "3  38.683580  -9.152590      Shared room       1.0             1   14.0   \n",
              "7  38.697500  -9.197680  Entire home/apt       1.0             3   69.0   \n",
              "8  38.712410  -9.127060  Entire home/apt       1.0             3   54.0   \n",
              "9  38.684052  -9.154102     Private room       1.0             2   29.0   \n",
              "\n",
              "   review_scores_rating price_range  \n",
              "0                  4.86        Bajo  \n",
              "3                  4.33        Bajo  \n",
              "7                  4.48        Bajo  \n",
              "8                  4.78        Bajo  \n",
              "9                  4.90        Bajo  "
            ],
            "text/html": [
              "\n",
              "  <div id=\"df-0b847d8f-dae9-4f7b-993c-6801de6354f7\">\n",
              "    <div class=\"colab-df-container\">\n",
              "      <div>\n",
              "<style scoped>\n",
              "    .dataframe tbody tr th:only-of-type {\n",
              "        vertical-align: middle;\n",
              "    }\n",
              "\n",
              "    .dataframe tbody tr th {\n",
              "        vertical-align: top;\n",
              "    }\n",
              "\n",
              "    .dataframe thead th {\n",
              "        text-align: right;\n",
              "    }\n",
              "</style>\n",
              "<table border=\"1\" class=\"dataframe\">\n",
              "  <thead>\n",
              "    <tr style=\"text-align: right;\">\n",
              "      <th></th>\n",
              "      <th>id</th>\n",
              "      <th>neighbourhood_cleansed</th>\n",
              "      <th>neighbourhood_group_cleansed</th>\n",
              "      <th>latitude</th>\n",
              "      <th>longitude</th>\n",
              "      <th>room_type</th>\n",
              "      <th>bedrooms</th>\n",
              "      <th>accommodates</th>\n",
              "      <th>price</th>\n",
              "      <th>review_scores_rating</th>\n",
              "      <th>price_range</th>\n",
              "    </tr>\n",
              "  </thead>\n",
              "  <tbody>\n",
              "    <tr>\n",
              "      <th>0</th>\n",
              "      <td>36664873</td>\n",
              "      <td>Belm</td>\n",
              "      <td>LISBOA</td>\n",
              "      <td>38.671280</td>\n",
              "      <td>-9.230640</td>\n",
              "      <td>Entire home/apt</td>\n",
              "      <td>3.0</td>\n",
              "      <td>6</td>\n",
              "      <td>95.0</td>\n",
              "      <td>4.86</td>\n",
              "      <td>Bajo</td>\n",
              "    </tr>\n",
              "    <tr>\n",
              "      <th>3</th>\n",
              "      <td>42095537</td>\n",
              "      <td>Estrela</td>\n",
              "      <td>LISBOA</td>\n",
              "      <td>38.683580</td>\n",
              "      <td>-9.152590</td>\n",
              "      <td>Shared room</td>\n",
              "      <td>1.0</td>\n",
              "      <td>1</td>\n",
              "      <td>14.0</td>\n",
              "      <td>4.33</td>\n",
              "      <td>Bajo</td>\n",
              "    </tr>\n",
              "    <tr>\n",
              "      <th>7</th>\n",
              "      <td>6499</td>\n",
              "      <td>Belm</td>\n",
              "      <td>LISBOA</td>\n",
              "      <td>38.697500</td>\n",
              "      <td>-9.197680</td>\n",
              "      <td>Entire home/apt</td>\n",
              "      <td>1.0</td>\n",
              "      <td>3</td>\n",
              "      <td>69.0</td>\n",
              "      <td>4.48</td>\n",
              "      <td>Bajo</td>\n",
              "    </tr>\n",
              "    <tr>\n",
              "      <th>8</th>\n",
              "      <td>25659</td>\n",
              "      <td>Santa Maria Maior</td>\n",
              "      <td>LISBOA</td>\n",
              "      <td>38.712410</td>\n",
              "      <td>-9.127060</td>\n",
              "      <td>Entire home/apt</td>\n",
              "      <td>1.0</td>\n",
              "      <td>3</td>\n",
              "      <td>54.0</td>\n",
              "      <td>4.78</td>\n",
              "      <td>Bajo</td>\n",
              "    </tr>\n",
              "    <tr>\n",
              "      <th>9</th>\n",
              "      <td>588224448804923698</td>\n",
              "      <td>Estrela</td>\n",
              "      <td>LISBOA</td>\n",
              "      <td>38.684052</td>\n",
              "      <td>-9.154102</td>\n",
              "      <td>Private room</td>\n",
              "      <td>1.0</td>\n",
              "      <td>2</td>\n",
              "      <td>29.0</td>\n",
              "      <td>4.90</td>\n",
              "      <td>Bajo</td>\n",
              "    </tr>\n",
              "  </tbody>\n",
              "</table>\n",
              "</div>\n",
              "      <button class=\"colab-df-convert\" onclick=\"convertToInteractive('df-0b847d8f-dae9-4f7b-993c-6801de6354f7')\"\n",
              "              title=\"Convert this dataframe to an interactive table.\"\n",
              "              style=\"display:none;\">\n",
              "        \n",
              "  <svg xmlns=\"http://www.w3.org/2000/svg\" height=\"24px\"viewBox=\"0 0 24 24\"\n",
              "       width=\"24px\">\n",
              "    <path d=\"M0 0h24v24H0V0z\" fill=\"none\"/>\n",
              "    <path d=\"M18.56 5.44l.94 2.06.94-2.06 2.06-.94-2.06-.94-.94-2.06-.94 2.06-2.06.94zm-11 1L8.5 8.5l.94-2.06 2.06-.94-2.06-.94L8.5 2.5l-.94 2.06-2.06.94zm10 10l.94 2.06.94-2.06 2.06-.94-2.06-.94-.94-2.06-.94 2.06-2.06.94z\"/><path d=\"M17.41 7.96l-1.37-1.37c-.4-.4-.92-.59-1.43-.59-.52 0-1.04.2-1.43.59L10.3 9.45l-7.72 7.72c-.78.78-.78 2.05 0 2.83L4 21.41c.39.39.9.59 1.41.59.51 0 1.02-.2 1.41-.59l7.78-7.78 2.81-2.81c.8-.78.8-2.07 0-2.86zM5.41 20L4 18.59l7.72-7.72 1.47 1.35L5.41 20z\"/>\n",
              "  </svg>\n",
              "      </button>\n",
              "      \n",
              "  <style>\n",
              "    .colab-df-container {\n",
              "      display:flex;\n",
              "      flex-wrap:wrap;\n",
              "      gap: 12px;\n",
              "    }\n",
              "\n",
              "    .colab-df-convert {\n",
              "      background-color: #E8F0FE;\n",
              "      border: none;\n",
              "      border-radius: 50%;\n",
              "      cursor: pointer;\n",
              "      display: none;\n",
              "      fill: #1967D2;\n",
              "      height: 32px;\n",
              "      padding: 0 0 0 0;\n",
              "      width: 32px;\n",
              "    }\n",
              "\n",
              "    .colab-df-convert:hover {\n",
              "      background-color: #E2EBFA;\n",
              "      box-shadow: 0px 1px 2px rgba(60, 64, 67, 0.3), 0px 1px 3px 1px rgba(60, 64, 67, 0.15);\n",
              "      fill: #174EA6;\n",
              "    }\n",
              "\n",
              "    [theme=dark] .colab-df-convert {\n",
              "      background-color: #3B4455;\n",
              "      fill: #D2E3FC;\n",
              "    }\n",
              "\n",
              "    [theme=dark] .colab-df-convert:hover {\n",
              "      background-color: #434B5C;\n",
              "      box-shadow: 0px 1px 3px 1px rgba(0, 0, 0, 0.15);\n",
              "      filter: drop-shadow(0px 1px 2px rgba(0, 0, 0, 0.3));\n",
              "      fill: #FFFFFF;\n",
              "    }\n",
              "  </style>\n",
              "\n",
              "      <script>\n",
              "        const buttonEl =\n",
              "          document.querySelector('#df-0b847d8f-dae9-4f7b-993c-6801de6354f7 button.colab-df-convert');\n",
              "        buttonEl.style.display =\n",
              "          google.colab.kernel.accessAllowed ? 'block' : 'none';\n",
              "\n",
              "        async function convertToInteractive(key) {\n",
              "          const element = document.querySelector('#df-0b847d8f-dae9-4f7b-993c-6801de6354f7');\n",
              "          const dataTable =\n",
              "            await google.colab.kernel.invokeFunction('convertToInteractive',\n",
              "                                                     [key], {});\n",
              "          if (!dataTable) return;\n",
              "\n",
              "          const docLinkHtml = 'Like what you see? Visit the ' +\n",
              "            '<a target=\"_blank\" href=https://colab.research.google.com/notebooks/data_table.ipynb>data table notebook</a>'\n",
              "            + ' to learn more about interactive tables.';\n",
              "          element.innerHTML = '';\n",
              "          dataTable['output_type'] = 'display_data';\n",
              "          await google.colab.output.renderOutput(dataTable, element);\n",
              "          const docLink = document.createElement('div');\n",
              "          docLink.innerHTML = docLinkHtml;\n",
              "          element.appendChild(docLink);\n",
              "        }\n",
              "      </script>\n",
              "    </div>\n",
              "  </div>\n",
              "  "
            ]
          },
          "metadata": {},
          "execution_count": 22
        }
      ],
      "source": [
        "lisboa.head(5)"
      ]
    },
    {
      "cell_type": "markdown",
      "metadata": {
        "id": "-195OwRNMTWV"
      },
      "source": [
        "Gráfica donde se identifica la cantidad de alojamientos por rango de precio"
      ]
    },
    {
      "cell_type": "code",
      "execution_count": null,
      "metadata": {
        "colab": {
          "base_uri": "https://localhost:8080/",
          "height": 529
        },
        "id": "cRTU52pka8o2",
        "outputId": "948ae4b9-90fb-4e73-b141-6ad76f223705"
      },
      "outputs": [
        {
          "output_type": "display_data",
          "data": {
            "text/plain": [
              "<Figure size 500x500 with 1 Axes>"
            ],
            "image/png": "[encoded data removed]"
          },
          "metadata": {}
        }
      ],
      "source": [
        "category_order= ['Bajo', 'Medio', 'Alto', 'Muy alto']\n",
        "sns.catplot(x='price_range', data=lisboa, kind='count', order=category_order)\n",
        "plt.title('Alojamientos por rango de precios')\n",
        "plt.ylabel('Alojamientos')\n",
        "plt.xlabel('Rango de precios')\n",
        "plt.show()"
      ]
    },
    {
      "cell_type": "markdown",
      "metadata": {
        "id": "F0vDbyO3MLE7"
      },
      "source": [
        "Gráfica de barra en la que se identifica la media por cada rango de precio.\n",
        "\n",
        "💡 **NOTA:** se selecciona la media debido a que se identifica precios muy elevados que pueden sesgar el promedio."
      ]
    },
    {
      "cell_type": "code",
      "execution_count": null,
      "metadata": {
        "colab": {
          "base_uri": "https://localhost:8080/",
          "height": 616
        },
        "id": "exhPAyC1a8ae",
        "outputId": "f48e78b3-c6e5-421e-d231-72d30834e47a"
      },
      "outputs": [
        {
          "output_type": "stream",
          "name": "stderr",
          "text": [
            "<ipython-input-24-1ee109ef04ff>:3: FutureWarning: \n",
            "\n",
            "The `ci` parameter is deprecated. Use `errorbar=None` for the same effect.\n",
            "\n",
            "  sns.catplot(x='price_range', y='price', kind='bar', data=lisboa, order=category_order, estimator=np.median, ci=None)\n"
          ]
        },
        {
          "output_type": "display_data",
          "data": {
            "text/plain": [
              "<Figure size 500x500 with 1 Axes>"
            ],
            "image/png": "[encoded data removed]"
          },
          "metadata": {}
        }
      ],
      "source": [
        "import numpy as np\n",
        "category_order= ['Bajo', 'Medio', 'Alto', 'Muy alto']\n",
        "sns.catplot(x='price_range', y='price', kind='bar', data=lisboa, order=category_order, estimator=np.median, ci=None)\n",
        "plt.title('Precio promedio por rango de precios')\n",
        "plt.ylabel('Precio')\n",
        "plt.xlabel('Rango de precios')\n",
        "plt.show()"
      ]
    },
    {
      "cell_type": "code",
      "execution_count": null,
      "metadata": {
        "colab": {
          "base_uri": "https://localhost:8080/",
          "height": 206
        },
        "id": "SOXPM-XNJmtX",
        "outputId": "5e1cbba2-cd9d-4a21-b73c-061d077f87cb"
      },
      "outputs": [
        {
          "output_type": "execute_result",
          "data": {
            "text/plain": [
              "               min      max     mean  median  count\n",
              "price_range                                        \n",
              "Alto         301.0    500.0   382.00   371.0    414\n",
              "Bajo           0.0    100.0    67.20    70.0   6854\n",
              "Medio        101.0    300.0   158.96   146.0   6170\n",
              "Muy alto     501.0  22000.0  1217.55   750.0    191"
            ],
            "text/html": [
              "\n",
              "  <div id=\"df-88629884-4cf5-4684-82f8-b6dc0bdf6fb6\">\n",
              "    <div class=\"colab-df-container\">\n",
              "      <div>\n",
              "<style scoped>\n",
              "    .dataframe tbody tr th:only-of-type {\n",
              "        vertical-align: middle;\n",
              "    }\n",
              "\n",
              "    .dataframe tbody tr th {\n",
              "        vertical-align: top;\n",
              "    }\n",
              "\n",
              "    .dataframe thead th {\n",
              "        text-align: right;\n",
              "    }\n",
              "</style>\n",
              "<table border=\"1\" class=\"dataframe\">\n",
              "  <thead>\n",
              "    <tr style=\"text-align: right;\">\n",
              "      <th></th>\n",
              "      <th>min</th>\n",
              "      <th>max</th>\n",
              "      <th>mean</th>\n",
              "      <th>median</th>\n",
              "      <th>count</th>\n",
              "    </tr>\n",
              "    <tr>\n",
              "      <th>price_range</th>\n",
              "      <th></th>\n",
              "      <th></th>\n",
              "      <th></th>\n",
              "      <th></th>\n",
              "      <th></th>\n",
              "    </tr>\n",
              "  </thead>\n",
              "  <tbody>\n",
              "    <tr>\n",
              "      <th>Alto</th>\n",
              "      <td>301.0</td>\n",
              "      <td>500.0</td>\n",
              "      <td>382.00</td>\n",
              "      <td>371.0</td>\n",
              "      <td>414</td>\n",
              "    </tr>\n",
              "    <tr>\n",
              "      <th>Bajo</th>\n",
              "      <td>0.0</td>\n",
              "      <td>100.0</td>\n",
              "      <td>67.20</td>\n",
              "      <td>70.0</td>\n",
              "      <td>6854</td>\n",
              "    </tr>\n",
              "    <tr>\n",
              "      <th>Medio</th>\n",
              "      <td>101.0</td>\n",
              "      <td>300.0</td>\n",
              "      <td>158.96</td>\n",
              "      <td>146.0</td>\n",
              "      <td>6170</td>\n",
              "    </tr>\n",
              "    <tr>\n",
              "      <th>Muy alto</th>\n",
              "      <td>501.0</td>\n",
              "      <td>22000.0</td>\n",
              "      <td>1217.55</td>\n",
              "      <td>750.0</td>\n",
              "      <td>191</td>\n",
              "    </tr>\n",
              "  </tbody>\n",
              "</table>\n",
              "</div>\n",
              "      <button class=\"colab-df-convert\" onclick=\"convertToInteractive('df-88629884-4cf5-4684-82f8-b6dc0bdf6fb6')\"\n",
              "              title=\"Convert this dataframe to an interactive table.\"\n",
              "              style=\"display:none;\">\n",
              "        \n",
              "  <svg xmlns=\"http://www.w3.org/2000/svg\" height=\"24px\"viewBox=\"0 0 24 24\"\n",
              "       width=\"24px\">\n",
              "    <path d=\"M0 0h24v24H0V0z\" fill=\"none\"/>\n",
              "    <path d=\"M18.56 5.44l.94 2.06.94-2.06 2.06-.94-2.06-.94-.94-2.06-.94 2.06-2.06.94zm-11 1L8.5 8.5l.94-2.06 2.06-.94-2.06-.94L8.5 2.5l-.94 2.06-2.06.94zm10 10l.94 2.06.94-2.06 2.06-.94-2.06-.94-.94-2.06-.94 2.06-2.06.94z\"/><path d=\"M17.41 7.96l-1.37-1.37c-.4-.4-.92-.59-1.43-.59-.52 0-1.04.2-1.43.59L10.3 9.45l-7.72 7.72c-.78.78-.78 2.05 0 2.83L4 21.41c.39.39.9.59 1.41.59.51 0 1.02-.2 1.41-.59l7.78-7.78 2.81-2.81c.8-.78.8-2.07 0-2.86zM5.41 20L4 18.59l7.72-7.72 1.47 1.35L5.41 20z\"/>\n",
              "  </svg>\n",
              "      </button>\n",
              "      \n",
              "  <style>\n",
              "    .colab-df-container {\n",
              "      display:flex;\n",
              "      flex-wrap:wrap;\n",
              "      gap: 12px;\n",
              "    }\n",
              "\n",
              "    .colab-df-convert {\n",
              "      background-color: #E8F0FE;\n",
              "      border: none;\n",
              "      border-radius: 50%;\n",
              "      cursor: pointer;\n",
              "      display: none;\n",
              "      fill: #1967D2;\n",
              "      height: 32px;\n",
              "      padding: 0 0 0 0;\n",
              "      width: 32px;\n",
              "    }\n",
              "\n",
              "    .colab-df-convert:hover {\n",
              "      background-color: #E2EBFA;\n",
              "      box-shadow: 0px 1px 2px rgba(60, 64, 67, 0.3), 0px 1px 3px 1px rgba(60, 64, 67, 0.15);\n",
              "      fill: #174EA6;\n",
              "    }\n",
              "\n",
              "    [theme=dark] .colab-df-convert {\n",
              "      background-color: #3B4455;\n",
              "      fill: #D2E3FC;\n",
              "    }\n",
              "\n",
              "    [theme=dark] .colab-df-convert:hover {\n",
              "      background-color: #434B5C;\n",
              "      box-shadow: 0px 1px 3px 1px rgba(0, 0, 0, 0.15);\n",
              "      filter: drop-shadow(0px 1px 2px rgba(0, 0, 0, 0.3));\n",
              "      fill: #FFFFFF;\n",
              "    }\n",
              "  </style>\n",
              "\n",
              "      <script>\n",
              "        const buttonEl =\n",
              "          document.querySelector('#df-88629884-4cf5-4684-82f8-b6dc0bdf6fb6 button.colab-df-convert');\n",
              "        buttonEl.style.display =\n",
              "          google.colab.kernel.accessAllowed ? 'block' : 'none';\n",
              "\n",
              "        async function convertToInteractive(key) {\n",
              "          const element = document.querySelector('#df-88629884-4cf5-4684-82f8-b6dc0bdf6fb6');\n",
              "          const dataTable =\n",
              "            await google.colab.kernel.invokeFunction('convertToInteractive',\n",
              "                                                     [key], {});\n",
              "          if (!dataTable) return;\n",
              "\n",
              "          const docLinkHtml = 'Like what you see? Visit the ' +\n",
              "            '<a target=\"_blank\" href=https://colab.research.google.com/notebooks/data_table.ipynb>data table notebook</a>'\n",
              "            + ' to learn more about interactive tables.';\n",
              "          element.innerHTML = '';\n",
              "          dataTable['output_type'] = 'display_data';\n",
              "          await google.colab.output.renderOutput(dataTable, element);\n",
              "          const docLink = document.createElement('div');\n",
              "          docLink.innerHTML = docLinkHtml;\n",
              "          element.appendChild(docLink);\n",
              "        }\n",
              "      </script>\n",
              "    </div>\n",
              "  </div>\n",
              "  "
            ]
          },
          "metadata": {},
          "execution_count": 25
        }
      ],
      "source": [
        "lisboa.groupby('price_range')['price'].agg(['min', 'max','mean', 'median','count']).round(2)"
      ]
    },
    {
      "cell_type": "markdown",
      "metadata": {
        "id": "q4wzzX6YZX7g"
      },
      "source": [
        "Revisión de precios por tipo de alojamiento"
      ]
    },
    {
      "cell_type": "code",
      "execution_count": null,
      "metadata": {
        "colab": {
          "base_uri": "https://localhost:8080/",
          "height": 206
        },
        "id": "EjlaXf7aJmem",
        "outputId": "52172067-1046-4216-82d0-dcfd5fc7b649"
      },
      "outputs": [
        {
          "output_type": "execute_result",
          "data": {
            "text/plain": [
              "                  min      max   mean  median\n",
              "room_type                                    \n",
              "Entire home/apt  14.0  22000.0  146.2   115.0\n",
              "Hotel room        0.0   1000.0  226.3   125.0\n",
              "Private room     10.0   8500.0   85.5    56.0\n",
              "Shared room      11.0    250.0   41.2    31.0"
            ],
            "text/html": [
              "\n",
              "  <div id=\"df-497ab0ac-b2c2-4038-9307-0658b7674aa5\">\n",
              "    <div class=\"colab-df-container\">\n",
              "      <div>\n",
              "<style scoped>\n",
              "    .dataframe tbody tr th:only-of-type {\n",
              "        vertical-align: middle;\n",
              "    }\n",
              "\n",
              "    .dataframe tbody tr th {\n",
              "        vertical-align: top;\n",
              "    }\n",
              "\n",
              "    .dataframe thead th {\n",
              "        text-align: right;\n",
              "    }\n",
              "</style>\n",
              "<table border=\"1\" class=\"dataframe\">\n",
              "  <thead>\n",
              "    <tr style=\"text-align: right;\">\n",
              "      <th></th>\n",
              "      <th>min</th>\n",
              "      <th>max</th>\n",
              "      <th>mean</th>\n",
              "      <th>median</th>\n",
              "    </tr>\n",
              "    <tr>\n",
              "      <th>room_type</th>\n",
              "      <th></th>\n",
              "      <th></th>\n",
              "      <th></th>\n",
              "      <th></th>\n",
              "    </tr>\n",
              "  </thead>\n",
              "  <tbody>\n",
              "    <tr>\n",
              "      <th>Entire home/apt</th>\n",
              "      <td>14.0</td>\n",
              "      <td>22000.0</td>\n",
              "      <td>146.2</td>\n",
              "      <td>115.0</td>\n",
              "    </tr>\n",
              "    <tr>\n",
              "      <th>Hotel room</th>\n",
              "      <td>0.0</td>\n",
              "      <td>1000.0</td>\n",
              "      <td>226.3</td>\n",
              "      <td>125.0</td>\n",
              "    </tr>\n",
              "    <tr>\n",
              "      <th>Private room</th>\n",
              "      <td>10.0</td>\n",
              "      <td>8500.0</td>\n",
              "      <td>85.5</td>\n",
              "      <td>56.0</td>\n",
              "    </tr>\n",
              "    <tr>\n",
              "      <th>Shared room</th>\n",
              "      <td>11.0</td>\n",
              "      <td>250.0</td>\n",
              "      <td>41.2</td>\n",
              "      <td>31.0</td>\n",
              "    </tr>\n",
              "  </tbody>\n",
              "</table>\n",
              "</div>\n",
              "      <button class=\"colab-df-convert\" onclick=\"convertToInteractive('df-497ab0ac-b2c2-4038-9307-0658b7674aa5')\"\n",
              "              title=\"Convert this dataframe to an interactive table.\"\n",
              "              style=\"display:none;\">\n",
              "        \n",
              "  <svg xmlns=\"http://www.w3.org/2000/svg\" height=\"24px\"viewBox=\"0 0 24 24\"\n",
              "       width=\"24px\">\n",
              "    <path d=\"M0 0h24v24H0V0z\" fill=\"none\"/>\n",
              "    <path d=\"M18.56 5.44l.94 2.06.94-2.06 2.06-.94-2.06-.94-.94-2.06-.94 2.06-2.06.94zm-11 1L8.5 8.5l.94-2.06 2.06-.94-2.06-.94L8.5 2.5l-.94 2.06-2.06.94zm10 10l.94 2.06.94-2.06 2.06-.94-2.06-.94-.94-2.06-.94 2.06-2.06.94z\"/><path d=\"M17.41 7.96l-1.37-1.37c-.4-.4-.92-.59-1.43-.59-.52 0-1.04.2-1.43.59L10.3 9.45l-7.72 7.72c-.78.78-.78 2.05 0 2.83L4 21.41c.39.39.9.59 1.41.59.51 0 1.02-.2 1.41-.59l7.78-7.78 2.81-2.81c.8-.78.8-2.07 0-2.86zM5.41 20L4 18.59l7.72-7.72 1.47 1.35L5.41 20z\"/>\n",
              "  </svg>\n",
              "      </button>\n",
              "      \n",
              "  <style>\n",
              "    .colab-df-container {\n",
              "      display:flex;\n",
              "      flex-wrap:wrap;\n",
              "      gap: 12px;\n",
              "    }\n",
              "\n",
              "    .colab-df-convert {\n",
              "      background-color: #E8F0FE;\n",
              "      border: none;\n",
              "      border-radius: 50%;\n",
              "      cursor: pointer;\n",
              "      display: none;\n",
              "      fill: #1967D2;\n",
              "      height: 32px;\n",
              "      padding: 0 0 0 0;\n",
              "      width: 32px;\n",
              "    }\n",
              "\n",
              "    .colab-df-convert:hover {\n",
              "      background-color: #E2EBFA;\n",
              "      box-shadow: 0px 1px 2px rgba(60, 64, 67, 0.3), 0px 1px 3px 1px rgba(60, 64, 67, 0.15);\n",
              "      fill: #174EA6;\n",
              "    }\n",
              "\n",
              "    [theme=dark] .colab-df-convert {\n",
              "      background-color: #3B4455;\n",
              "      fill: #D2E3FC;\n",
              "    }\n",
              "\n",
              "    [theme=dark] .colab-df-convert:hover {\n",
              "      background-color: #434B5C;\n",
              "      box-shadow: 0px 1px 3px 1px rgba(0, 0, 0, 0.15);\n",
              "      filter: drop-shadow(0px 1px 2px rgba(0, 0, 0, 0.3));\n",
              "      fill: #FFFFFF;\n",
              "    }\n",
              "  </style>\n",
              "\n",
              "      <script>\n",
              "        const buttonEl =\n",
              "          document.querySelector('#df-497ab0ac-b2c2-4038-9307-0658b7674aa5 button.colab-df-convert');\n",
              "        buttonEl.style.display =\n",
              "          google.colab.kernel.accessAllowed ? 'block' : 'none';\n",
              "\n",
              "        async function convertToInteractive(key) {\n",
              "          const element = document.querySelector('#df-497ab0ac-b2c2-4038-9307-0658b7674aa5');\n",
              "          const dataTable =\n",
              "            await google.colab.kernel.invokeFunction('convertToInteractive',\n",
              "                                                     [key], {});\n",
              "          if (!dataTable) return;\n",
              "\n",
              "          const docLinkHtml = 'Like what you see? Visit the ' +\n",
              "            '<a target=\"_blank\" href=https://colab.research.google.com/notebooks/data_table.ipynb>data table notebook</a>'\n",
              "            + ' to learn more about interactive tables.';\n",
              "          element.innerHTML = '';\n",
              "          dataTable['output_type'] = 'display_data';\n",
              "          await google.colab.output.renderOutput(dataTable, element);\n",
              "          const docLink = document.createElement('div');\n",
              "          docLink.innerHTML = docLinkHtml;\n",
              "          element.appendChild(docLink);\n",
              "        }\n",
              "      </script>\n",
              "    </div>\n",
              "  </div>\n",
              "  "
            ]
          },
          "metadata": {},
          "execution_count": 26
        }
      ],
      "source": [
        "lisboa.groupby('room_type')['price'].agg(['min', 'max','mean','median']).round(1)"
      ]
    },
    {
      "cell_type": "markdown",
      "metadata": {
        "id": "BNXJWdZcce_4"
      },
      "source": [
        "Revisión de la cantidad de alojamientos por tipo"
      ]
    },
    {
      "cell_type": "code",
      "execution_count": null,
      "metadata": {
        "colab": {
          "base_uri": "https://localhost:8080/",
          "height": 633
        },
        "id": "mZ1ULv4ZZUj3",
        "outputId": "7a8ce1f9-fbf1-457e-eac6-addb2fd5bc1c"
      },
      "outputs": [
        {
          "output_type": "display_data",
          "data": {
            "text/plain": [
              "<Figure size 500x500 with 1 Axes>"
            ],
            "image/png": "[encoded data removed]"
          },
          "metadata": {}
        },
        {
          "output_type": "execute_result",
          "data": {
            "text/plain": [
              "room_type\n",
              "Entire home/apt    10660\n",
              "Hotel room           177\n",
              "Private room        2671\n",
              "Shared room          121\n",
              "Name: room_type, dtype: int64"
            ]
          },
          "metadata": {},
          "execution_count": 27
        }
      ],
      "source": [
        "sns.catplot(x='room_type', data=lisboa, kind='count')\n",
        "plt.title('Cantidad de alojamientos por tipo')\n",
        "plt.ylabel('Alojamientos')\n",
        "plt.xlabel('Tipo de alojamiento')\n",
        "plt.show()\n",
        "lisboa.groupby('room_type')['room_type'].count()"
      ]
    },
    {
      "cell_type": "code",
      "source": [
        "lisboa.groupby('price_range')['id'].count()"
      ],
      "metadata": {
        "colab": {
          "base_uri": "https://localhost:8080/"
        },
        "id": "-cHBc6YD57vb",
        "outputId": "9a597b52-cf0c-4fbe-d086-50531bc0b323"
      },
      "execution_count": null,
      "outputs": [
        {
          "output_type": "execute_result",
          "data": {
            "text/plain": [
              "price_range\n",
              "Alto         414\n",
              "Bajo        6854\n",
              "Medio       6170\n",
              "Muy alto     191\n",
              "Name: id, dtype: int64"
            ]
          },
          "metadata": {},
          "execution_count": 28
        }
      ]
    },
    {
      "cell_type": "markdown",
      "source": [
        "Cantidad de alojamientos por barrio"
      ],
      "metadata": {
        "id": "F3zspb2fZUxQ"
      }
    },
    {
      "cell_type": "code",
      "source": [
        "lisboa.groupby('neighbourhood_cleansed')['id'].count()"
      ],
      "metadata": {
        "colab": {
          "base_uri": "https://localhost:8080/"
        },
        "id": "qe1jVAneM7dm",
        "outputId": "07fcfc55-ddf2-4263-f840-1757294296ad"
      },
      "execution_count": null,
      "outputs": [
        {
          "output_type": "execute_result",
          "data": {
            "text/plain": [
              "neighbourhood_cleansed\n",
              "Ajuda                      178\n",
              "Alcntara                   215\n",
              "Alvalade                   181\n",
              "Areeiro                    261\n",
              "Arroios                   1715\n",
              "Avenidas Novas             487\n",
              "Beato                       84\n",
              "Belm                       332\n",
              "Benfica                     49\n",
              "Campo de Ourique           268\n",
              "Campolide                  161\n",
              "Carnide                     30\n",
              "Estrela                    915\n",
              "Lumiar                      74\n",
              "Marvila                     77\n",
              "Misericrdia               2340\n",
              "Olivais                    154\n",
              "Parque das Naes            258\n",
              "Penha de Frana             436\n",
              "Santa Clara                 21\n",
              "Santa Maria Maior         3151\n",
              "Santo Antnio              1106\n",
              "So Domingos de Benfica     103\n",
              "So Vicente                1033\n",
              "Name: id, dtype: int64"
            ]
          },
          "metadata": {},
          "execution_count": 29
        }
      ]
    },
    {
      "cell_type": "markdown",
      "source": [
        "Cantidad de alojamientos por barrio y por rango de precio"
      ],
      "metadata": {
        "id": "0FDzslzhZcao"
      }
    },
    {
      "cell_type": "code",
      "source": [
        "sns.countplot(data=lisboa, y = 'neighbourhood_cleansed', hue='price_range', order=lisboa['neighbourhood_cleansed'].value_counts().index)\n",
        "plt.title('Cantidad de alojamientos por barrio y rango de precio')\n",
        "plt.ylabel('Barrio')\n",
        "plt.xlabel('Alojamientos')"
      ],
      "metadata": {
        "colab": {
          "base_uri": "https://localhost:8080/",
          "height": 489
        },
        "id": "UIFpwa6EDfMq",
        "outputId": "dd075250-0231-4126-fd15-8f63cb46e09b"
      },
      "execution_count": null,
      "outputs": [
        {
          "output_type": "execute_result",
          "data": {
            "text/plain": [
              "Text(0.5, 0, 'Alojamientos')"
            ]
          },
          "metadata": {},
          "execution_count": 35
        },
        {
          "output_type": "display_data",
          "data": {
            "text/plain": [
              "<Figure size 640x480 with 1 Axes>"
            ],
            "image/png": "[encoded data removed]"
          },
          "metadata": {}
        }
      ]
    },
    {
      "cell_type": "markdown",
      "source": [
        "Barrios con mayor cantidad de alojamientos en airbnb"
      ],
      "metadata": {
        "id": "BrVYPpiYZny4"
      }
    },
    {
      "cell_type": "code",
      "source": [
        "import matplotlib.pyplot as plt\n",
        "from wordcloud import WordCloud\n",
        "\n",
        "data = lisboa['neighbourhood_cleansed'].value_counts().to_dict()\n",
        "wc = WordCloud(width = 600, height = 200).generate_from_frequencies(data)\n",
        "plt.title('Barrios con mas alojamientos')\n",
        "plt.axis(\"off\")\n",
        "plt.imshow(wc)\n",
        "\n"
      ],
      "metadata": {
        "colab": {
          "base_uri": "https://localhost:8080/",
          "height": 241
        },
        "id": "9TRv5U3JSGGP",
        "outputId": "4b45a66c-d976-4d7d-8bf2-73dfab62ea01"
      },
      "execution_count": null,
      "outputs": [
        {
          "output_type": "execute_result",
          "data": {
            "text/plain": [
              "<matplotlib.image.AxesImage at 0x7fa38caa3760>"
            ]
          },
          "metadata": {},
          "execution_count": 36
        },
        {
          "output_type": "display_data",
          "data": {
            "text/plain": [
              "<Figure size 640x480 with 1 Axes>"
            ],
            "image/png": "[encoded data removed]"
          },
          "metadata": {}
        }
      ]
    },
    {
      "cell_type": "code",
      "source": [
        "lisboa.groupby('bedrooms')['price'].median()"
      ],
      "metadata": {
        "colab": {
          "base_uri": "https://localhost:8080/"
        },
        "id": "c7QJA2H-gneM",
        "outputId": "638f678f-4d9c-4696-a80a-0e8dc5037be8"
      },
      "execution_count": null,
      "outputs": [
        {
          "output_type": "execute_result",
          "data": {
            "text/plain": [
              "bedrooms\n",
              "0.0       92.0\n",
              "1.0       82.0\n",
              "2.0      130.0\n",
              "3.0      160.0\n",
              "4.0      214.0\n",
              "5.0      291.0\n",
              "6.0      428.5\n",
              "7.0      380.0\n",
              "8.0      380.0\n",
              "9.0      519.0\n",
              "10.0    1150.0\n",
              "11.0     567.0\n",
              "12.0    1194.0\n",
              "14.0     119.0\n",
              "16.0    8125.0\n",
              "18.0    3167.0\n",
              "Name: price, dtype: float64"
            ]
          },
          "metadata": {},
          "execution_count": 32
        }
      ]
    },
    {
      "cell_type": "code",
      "source": [
        "import statsmodels.api as sm\n",
        "corr = lisboa.set_index('id').corr()\n",
        "sm.graphics.plot_corr(corr, xnames=list(corr.columns))\n",
        "plt.title('Matriz de correlación')\n",
        "plt.show()"
      ],
      "metadata": {
        "colab": {
          "base_uri": "https://localhost:8080/",
          "height": 542
        },
        "id": "7GaZJhh97-Tn",
        "outputId": "6397d46f-a323-4d4e-d17d-d992210773ae"
      },
      "execution_count": null,
      "outputs": [
        {
          "output_type": "stream",
          "name": "stderr",
          "text": [
            "<ipython-input-37-5f2a773727fb>:2: FutureWarning: The default value of numeric_only in DataFrame.corr is deprecated. In a future version, it will default to False. Select only valid columns or specify the value of numeric_only to silence this warning.\n",
            "  corr = lisboa.set_index('id').corr()\n"
          ]
        },
        {
          "output_type": "display_data",
          "data": {
            "text/plain": [
              "<Figure size 640x480 with 2 Axes>"
            ],
            "image/png": "[encoded data removed]"
          },
          "metadata": {}
        }
      ]
    },
    {
      "cell_type": "markdown",
      "source": [
        "# **CONCLUSIONES**\n",
        "1. El tipo de alojamiento Shared room y Private room tienen como media los mejores precios, seguidos por Entire home/apt y Hotel room.\n",
        "\n",
        "*   *Shared room*: $31\n",
        "\n",
        "*   *Private room*: $56\n",
        "\n",
        "*   *Entire home/apt*: $115\n",
        "\n",
        "*   *Hotel room*: $125\n",
        "\n",
        "2. La media de precios en la ciudad de Lisboa está en $100 por noche\n",
        "\n",
        "3. Cantidad de alojamientos por rangos de precio:\n",
        "* *Bajo*:\t6854\n",
        "* *Medio*: 6170\n",
        "* *Alto*:\t414\n",
        "* *Muy alto*: 191\n",
        "\n",
        "4. Top 5 de zonas con mejor precio promedio\n",
        "* Santa Maria Maior\n",
        "* Arroios\n",
        "* Misericrdia\n",
        "* So Vicente\n",
        "* Santo Antnio\n",
        "\n",
        "5. Entire home/apt es el tipo de alojamiento mas ofertado en Lisboa\n",
        "\n",
        "6. Precio promedio de alojamientos con hasta 2 habitaciones\n",
        "* *Loft*: $ 92.0\n",
        "\n",
        "* *1 habitación*: $ 82.0\n",
        "\n",
        "* *2 habitaciones*: $ 130.0\n",
        "\n"
      ],
      "metadata": {
        "id": "O2NSh-MNntfb"
      }
    }
  ],
  "metadata": {
    "colab": {
      "provenance": [],
      "include_colab_link": true
    },
    "kernelspec": {
      "display_name": "Python 3",
      "name": "python3"
    },
    "language_info": {
      "name": "python"
    }
  },
  "nbformat": 4,
  "nbformat_minor": 0
}